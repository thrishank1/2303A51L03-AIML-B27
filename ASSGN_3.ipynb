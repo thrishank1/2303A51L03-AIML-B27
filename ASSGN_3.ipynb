{
  "nbformat": 4,
  "nbformat_minor": 0,
  "metadata": {
    "colab": {
      "provenance": [],
      "authorship_tag": "ABX9TyNvXMlJMwstJZSr8SCMcZIT",
      "include_colab_link": true
    },
    "kernelspec": {
      "name": "python3",
      "display_name": "Python 3"
    },
    "language_info": {
      "name": "python"
    }
  },
  "cells": [
    {
      "cell_type": "markdown",
      "metadata": {
        "id": "view-in-github",
        "colab_type": "text"
      },
      "source": [
        "<a href=\"https://colab.research.google.com/github/thrishank1/2303A51L03-AIML-B27/blob/main/ASSGN_3.ipynb\" target=\"_parent\"><img src=\"https://colab.research.google.com/assets/colab-badge.svg\" alt=\"Open In Colab\"/></a>"
      ]
    },
    {
      "cell_type": "code",
      "execution_count": 1,
      "metadata": {
        "id": "rfvP9tTMN2wU",
        "colab": {
          "base_uri": "https://localhost:8080/"
        },
        "outputId": "391498bc-317b-4f68-fb42-be4b72ba9192"
      },
      "outputs": [
        {
          "output_type": "stream",
          "name": "stdout",
          "text": [
            "Minimax result: 5\n",
            "Alpha-Beta Pruning result: 5\n"
          ]
        }
      ],
      "source": [
        "import math\n",
        "\n",
        "class Node:\n",
        "    def __init__(self, value=None):\n",
        "        self.value = value\n",
        "        self.children = []\n",
        "\n",
        "def minimax(node, depth, maximizing_player):\n",
        "    if depth == 0 or not node.children:\n",
        "        return node.value\n",
        "    if maximizing_player:\n",
        "        max_eval = -math.inf\n",
        "        for child in node.children:\n",
        "            eval = minimax(child, depth - 1, False)\n",
        "            max_eval = max(max_eval, eval)\n",
        "        return max_eval\n",
        "    else:\n",
        "        min_eval = math.inf\n",
        "        for child in node.children:\n",
        "            eval = minimax(child, depth - 1, True)\n",
        "            min_eval = min(min_eval, eval)\n",
        "        return min_eval\n",
        "\n",
        "def alpha_beta_pruning(node, depth, alpha, beta, maximizing_player):\n",
        "    if depth == 0 or not node.children:\n",
        "        return node.value\n",
        "    if maximizing_player:\n",
        "        max_eval = -math.inf\n",
        "        for child in node.children:\n",
        "            eval = alpha_beta_pruning(child, depth - 1, alpha, beta, False)\n",
        "            max_eval = max(max_eval, eval)\n",
        "            alpha = max(alpha, eval)\n",
        "            if beta <= alpha:\n",
        "                break\n",
        "        return max_eval\n",
        "    else:\n",
        "        min_eval = math.inf\n",
        "        for child in node.children:\n",
        "            eval = alpha_beta_pruning(child, depth - 1, alpha, beta, True)\n",
        "            min_eval = min(min_eval, eval)\n",
        "            beta = min(beta, eval)\n",
        "            if beta <= alpha:\n",
        "                break\n",
        "        return min_eval\n",
        "\n",
        "# Example usage\n",
        "if __name__ == \"__main__\":\n",
        "    root = Node()\n",
        "    root.children = [Node(3), Node(6), Node(8)]\n",
        "    root.children[0].children = [Node(4), Node(2)]\n",
        "    root.children[1].children = [Node(9), Node(1)]\n",
        "    root.children[2].children = [Node(5), Node(7)]\n",
        "    print(\"Minimax result:\", minimax(root, 2, True))\n",
        "    print(\"Alpha-Beta Pruning result:\", alpha_beta_pruning(root, 2, -math.inf, math.inf, True))\n"
      ]
    }
  ]
}